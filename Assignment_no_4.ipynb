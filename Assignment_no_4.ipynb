{
  "nbformat": 4,
  "nbformat_minor": 0,
  "metadata": {
    "colab": {
      "name": "Assignment_no_5.ipynb",
      "provenance": []
    },
    "kernelspec": {
      "name": "python3",
      "display_name": "Python 3"
    }
  },
  "cells": [
    {
      "cell_type": "code",
      "metadata": {
        "id": "XYtzD019rNVE",
        "colab_type": "code",
        "colab": {
          "base_uri": "https://localhost:8080/",
          "height": 272
        },
        "outputId": "16e83fbe-31fd-4e9c-e4ec-c92ff6aec4ce"
      },
      "source": [
        "##QUESTION 1\n",
        "print(\"QUESTION NO 1 RESULT\")\n",
        "user_dict={\"first_name\":\"Aamir\",\"last_name\":\"Hameed\",\"age\":24,\"city\":\"Karachi\"}\n",
        "print(\"firstname:\",user_dict['first_name'])\n",
        "print(\"lastname:\",user_dict['last_name'])\n",
        "print(\"age:\",user_dict['age'])\n",
        "print(\"city:\",user_dict['city'])\n",
        "user_dict['qualification']='bachelors'\n",
        "user_dict.popitem()\n",
        "\n",
        "#QUESTION 2\n",
        "print(\"QUESTION NO 2 RESULT\")\n",
        "cities_info={\"PAKISTAN\":{\"CITY_NAME\":\"KARACHI\",\"POPULATION\":\"18 CRORE\",\"FACT\":\"MQM\"},'SUADIA _ARAB':{\"CITY_NAME\":\"MAKKAH\",\"POPULATION\":\"10CRORE\",\"FACT\":\"HOLLY PLACE\"},'UAE':{\"CITY_NAME\":\"DUBAI\",\"POPULATION\":\"13CRORE\",\"FACT\":\"ADVENTURES\"}}\n",
        "print(\"INFO:{}\".format(cities_info[\"PAKISTAN\"]))\n",
        "print(\"INFO:{}\".format(cities_info[\"SUADIA _ARAB\"]))\n",
        "print(\"INFO:{}\".format(cities_info[\"UAE\"]))\n",
        "\n",
        "#QUESTION 3\n",
        "print(\"QUESTION NO 3 RESULT\")\n",
        "while True :\n",
        "    age=int(input(\"ENTER YOUR AGE! \"))\n",
        "    if age<=3:\n",
        "        print(\"your ticket is free of cost\")\n",
        "        break\n",
        "    elif age>3 and age<=12:\n",
        "        print(\"your ticket price is 10$ per\")\n",
        "        break\n",
        "    elif age>12 and age<=15:\n",
        "        print(\"your ticket price is 15$ per\")\n",
        "        break\n",
        "    else:\n",
        "        print(\"your enter wrong age formate\")\n",
        "\n",
        "#QUESTION 4\n",
        "print(\"QUESTION NO 4 RESULT\")\n",
        "def favorite_book(title):\n",
        "    output=print(\"my favorite books is {:20}\".format(title))\n",
        "    return output\n",
        "favorite_book(\"Alice is wonderland \")\n",
        "\n",
        "#QUESTION 5\n",
        "print(\"QUESTION NO 5 RESULT\")"
      ],
      "execution_count": 15,
      "outputs": [
        {
          "output_type": "stream",
          "text": [
            "QUESTION NO 1 RESULT\n",
            "firstname: Aamir\n",
            "lastname: Hameed\n",
            "age: 24\n",
            "city: Karachi\n",
            "QUESTION NO 2 RESULT\n",
            "INFO:{'CITY_NAME': 'KARACHI', 'POPULATION': '18 CRORE', 'FACT': 'MQM'}\n",
            "INFO:{'CITY_NAME': 'MAKKAH', 'POPULATION': '10CRORE', 'FACT': 'HOLLY PLACE'}\n",
            "INFO:{'CITY_NAME': 'DUBAI', 'POPULATION': '13CRORE', 'FACT': 'ADVENTURES'}\n",
            "QUESTION NO 3 RESULT\n",
            "ENTER YOUR AGE! 3\n",
            "your ticket is free of cost\n",
            "QUESTION NO 4 RESULT\n",
            "my favorite books is Alice is wonderland \n",
            "QUESTION NO 5 RESULT\n"
          ],
          "name": "stdout"
        }
      ]
    },
    {
      "cell_type": "code",
      "metadata": {
        "id": "FGc1wwRRtbA1",
        "colab_type": "code",
        "colab": {}
      },
      "source": [
        "24\n"
      ],
      "execution_count": 0,
      "outputs": []
    }
  ]
}